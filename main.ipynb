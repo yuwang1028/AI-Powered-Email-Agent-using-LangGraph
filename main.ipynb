{
  "nbformat": 4,
  "nbformat_minor": 0,
  "metadata": {
    "colab": {
      "provenance": [],
      "authorship_tag": "ABX9TyPS+IQzit9vC4O8hCjs3FzK",
      "include_colab_link": true
    },
    "kernelspec": {
      "name": "python3",
      "display_name": "Python 3"
    },
    "language_info": {
      "name": "python"
    }
  },
  "cells": [
    {
      "cell_type": "markdown",
      "metadata": {
        "id": "view-in-github",
        "colab_type": "text"
      },
      "source": [
        "<a href=\"https://colab.research.google.com/github/yuwang1028/AI-Powered-Email-Agent-using-LangGraph/blob/main/main.ipynb\" target=\"_parent\"><img src=\"https://colab.research.google.com/assets/colab-badge.svg\" alt=\"Open In Colab\"/></a>"
      ]
    },
    {
      "cell_type": "code",
      "execution_count": 2,
      "metadata": {
        "colab": {
          "base_uri": "https://localhost:8080/"
        },
        "id": "YL33-G303IOv",
        "outputId": "163200df-0472-40bf-a2ba-83f9cf445620"
      },
      "outputs": [
        {
          "output_type": "stream",
          "name": "stdout",
          "text": [
            "\u001b[?25l   \u001b[90m━━━━━━━━━━━━━━━━━━━━━━━━━━━━━━━━━━━━━━━━\u001b[0m \u001b[32m0.0/136.5 kB\u001b[0m \u001b[31m?\u001b[0m eta \u001b[36m-:--:--\u001b[0m\r\u001b[2K   \u001b[91m━━━━━━━━━━━━━━━━━━━━━━━━━━━━━━━━━━━━━━━\u001b[0m\u001b[90m╺\u001b[0m \u001b[32m133.1/136.5 kB\u001b[0m \u001b[31m6.4 MB/s\u001b[0m eta \u001b[36m0:00:01\u001b[0m\r\u001b[2K   \u001b[90m━━━━━━━━━━━━━━━━━━━━━━━━━━━━━━━━━━━━━━━━\u001b[0m \u001b[32m136.5/136.5 kB\u001b[0m \u001b[31m3.3 MB/s\u001b[0m eta \u001b[36m0:00:00\u001b[0m\n",
            "\u001b[2K   \u001b[90m━━━━━━━━━━━━━━━━━━━━━━━━━━━━━━━━━━━━━━━━\u001b[0m \u001b[32m60.9/60.9 kB\u001b[0m \u001b[31m3.3 MB/s\u001b[0m eta \u001b[36m0:00:00\u001b[0m\n",
            "\u001b[2K   \u001b[90m━━━━━━━━━━━━━━━━━━━━━━━━━━━━━━━━━━━━━━━━\u001b[0m \u001b[32m41.2/41.2 kB\u001b[0m \u001b[31m2.0 MB/s\u001b[0m eta \u001b[36m0:00:00\u001b[0m\n",
            "\u001b[2K   \u001b[90m━━━━━━━━━━━━━━━━━━━━━━━━━━━━━━━━━━━━━━━━\u001b[0m \u001b[32m46.5/46.5 kB\u001b[0m \u001b[31m2.3 MB/s\u001b[0m eta \u001b[36m0:00:00\u001b[0m\n",
            "\u001b[2K   \u001b[90m━━━━━━━━━━━━━━━━━━━━━━━━━━━━━━━━━━━━━━━━\u001b[0m \u001b[32m1.2/1.2 MB\u001b[0m \u001b[31m22.0 MB/s\u001b[0m eta \u001b[36m0:00:00\u001b[0m\n",
            "\u001b[2K   \u001b[90m━━━━━━━━━━━━━━━━━━━━━━━━━━━━━━━━━━━━━━━━\u001b[0m \u001b[32m363.4/363.4 MB\u001b[0m \u001b[31m3.9 MB/s\u001b[0m eta \u001b[36m0:00:00\u001b[0m\n",
            "\u001b[2K   \u001b[90m━━━━━━━━━━━━━━━━━━━━━━━━━━━━━━━━━━━━━━━━\u001b[0m \u001b[32m13.8/13.8 MB\u001b[0m \u001b[31m41.2 MB/s\u001b[0m eta \u001b[36m0:00:00\u001b[0m\n",
            "\u001b[2K   \u001b[90m━━━━━━━━━━━━━━━━━━━━━━━━━━━━━━━━━━━━━━━━\u001b[0m \u001b[32m24.6/24.6 MB\u001b[0m \u001b[31m30.9 MB/s\u001b[0m eta \u001b[36m0:00:00\u001b[0m\n",
            "\u001b[2K   \u001b[90m━━━━━━━━━━━━━━━━━━━━━━━━━━━━━━━━━━━━━━━━\u001b[0m \u001b[32m883.7/883.7 kB\u001b[0m \u001b[31m31.5 MB/s\u001b[0m eta \u001b[36m0:00:00\u001b[0m\n",
            "\u001b[2K   \u001b[90m━━━━━━━━━━━━━━━━━━━━━━━━━━━━━━━━━━━━━━━━\u001b[0m \u001b[32m664.8/664.8 MB\u001b[0m \u001b[31m2.8 MB/s\u001b[0m eta \u001b[36m0:00:00\u001b[0m\n",
            "\u001b[2K   \u001b[90m━━━━━━━━━━━━━━━━━━━━━━━━━━━━━━━━━━━━━━━━\u001b[0m \u001b[32m211.5/211.5 MB\u001b[0m \u001b[31m4.7 MB/s\u001b[0m eta \u001b[36m0:00:00\u001b[0m\n",
            "\u001b[2K   \u001b[90m━━━━━━━━━━━━━━━━━━━━━━━━━━━━━━━━━━━━━━━━\u001b[0m \u001b[32m56.3/56.3 MB\u001b[0m \u001b[31m11.4 MB/s\u001b[0m eta \u001b[36m0:00:00\u001b[0m\n",
            "\u001b[2K   \u001b[90m━━━━━━━━━━━━━━━━━━━━━━━━━━━━━━━━━━━━━━━━\u001b[0m \u001b[32m127.9/127.9 MB\u001b[0m \u001b[31m7.2 MB/s\u001b[0m eta \u001b[36m0:00:00\u001b[0m\n",
            "\u001b[2K   \u001b[90m━━━━━━━━━━━━━━━━━━━━━━━━━━━━━━━━━━━━━━━━\u001b[0m \u001b[32m207.5/207.5 MB\u001b[0m \u001b[31m6.3 MB/s\u001b[0m eta \u001b[36m0:00:00\u001b[0m\n",
            "\u001b[2K   \u001b[90m━━━━━━━━━━━━━━━━━━━━━━━━━━━━━━━━━━━━━━━━\u001b[0m \u001b[32m21.1/21.1 MB\u001b[0m \u001b[31m77.7 MB/s\u001b[0m eta \u001b[36m0:00:00\u001b[0m\n",
            "\u001b[?25h"
          ]
        }
      ],
      "source": [
        "%pip install -q langgraph langchain_openai langchain_huggingface"
      ]
    },
    {
      "cell_type": "code",
      "source": [
        "import os\n",
        "from typing import TypedDict, List, Dict, Any, Optional\n",
        "from langgraph.graph import StateGraph, END\n",
        "from langchain_openai import ChatOpenAI\n",
        "from langchain_core.messages import HumanMessage, AIMessage\n",
        "\n",
        "# Set your OpenAI API key here\n",
        "os.environ[\"OPENAI_API_KEY\"] = \"sk-xxxxx\"  # Replace with your actual API key\n",
        "\n",
        "# Initialize our LLM\n",
        "model = ChatOpenAI(model=\"gpt-4o\", temperature=0)"
      ],
      "metadata": {
        "id": "Gj2GsCrC3X1f"
      },
      "execution_count": 3,
      "outputs": []
    },
    {
      "cell_type": "code",
      "source": [
        "# define the state\n",
        "class EmailState(TypedDict):\n",
        "    email: Dict[str, Any]\n",
        "    is_spam: Optional[bool]\n",
        "    spam_reason: Optional[str]\n",
        "    email_category: Optional[str]\n",
        "    draft_response: Optional[str]\n",
        "    messages: List[Dict[str, Any]]"
      ],
      "metadata": {
        "id": "LN31PRrV3fPX"
      },
      "execution_count": 4,
      "outputs": []
    },
    {
      "cell_type": "code",
      "source": [
        "# define the nodes\n",
        "import os\n",
        "from typing import TypedDict, List, Dict, Any, Optional\n",
        "from langgraph.graph import StateGraph, START, END\n",
        "from langchain_openai import ChatOpenAI\n",
        "from langchain_core.messages import HumanMessage, AIMessage\n",
        "from langchain_huggingface import ChatHuggingFace, HuggingFaceEndpoint\n",
        "\n",
        "model = ChatOpenAI(model =\"gpt-4o\", temperature=0)\n",
        "\n",
        "# Define the state\n",
        "class EmailState(TypedDict):\n",
        "    email: Dict[str, Any]\n",
        "    is_spam: Optional[bool]\n",
        "    spam_reason: Optional[str]\n",
        "    email_category: Optional[str]\n",
        "    draft_response: Optional[str]\n",
        "    messages: List[Dict[str, Any]]\n",
        "\n",
        "# Define the nodes\n",
        "def read_email(state: EmailState):\n",
        "  email = state[\"email\"]\n",
        "  print(f\"email agent is reading your email from {email['sender']}, with subject {email['subject']}\")\n",
        "\n",
        "\n",
        "def classfiy_emial(state: EmailState):\n",
        "  email = state[\"email\"]\n",
        "  prompt = f\"\"\"\n",
        "As Alfred the butler of Mr wayne and it's SECRET identity Batman, analyze this email and determine if it is spam or legitimate and should be brought to Mr wayne's attention.\n",
        "Email:\n",
        "From: {email['sender']}\n",
        "Subject: {email['subject']}\n",
        "Body: {email['body']}\n",
        "First, determine if this email is spam.\n",
        "answer with SPAM or HAM if it's legitimate. Only reurn the answer\n",
        "Answer :\n",
        "    \"\"\"\n",
        "  message = HumanMessage(content=prompt)\n",
        "  response = model.invoke([message])\n",
        "  response_text = response.content.lower()\n",
        "  print(response_text)\n",
        "  is_spam = \"spam\" in response_text\n",
        "\n",
        "  if not is_spam:\n",
        "    new_messages = state.get(\"messages\", []) + [\n",
        "        {\"role\": \"user\", \"content\": prompt},\n",
        "        {\"role\": \"assistant\", \"content\": response_text}\n",
        "    ]\n",
        "  else:\n",
        "    new_messages = state.get(\"messages\", [])\n",
        "\n",
        "  return {\"is_spam\": is_spam, \"messages\": new_messages}\n",
        "\n",
        "\n",
        "def handle_spam(state: EmailState):\n",
        "    print(f\"Alfred has marked the email as spam.\")\n",
        "    print(\"The email has been moved to the spam folder.\")\n",
        "    return {}\n",
        "\n",
        "def drafting_response(state: EmailState):\n",
        "    email = state[\"email\"]\n",
        "\n",
        "    prompt = f\"\"\"\n",
        "As Alfred the butler, draft a polite preliminary response to this email.\n",
        "Email:\n",
        "From: {email['sender']}\n",
        "Subject: {email['subject']}\n",
        "Body: {email['body']}\n",
        "\n",
        "Draft a brief, professional response that Mr. Wayne can review and personalize before sending.\n",
        "    \"\"\"\n",
        "\n",
        "    message = HumanMessage(content= prompt)\n",
        "    response = model.invoke(message)\n",
        "    new_messages = state.get(\"messages\", []) + [\n",
        "      {\"role\": \"user\", \"content\": prompt},\n",
        "      {\"role\": \"assistant\", \"content\": response_text}\n",
        "    ]\n",
        "\n",
        "    return {\"draft_response\": response.content, \"messages\": new_messages}\n",
        "\n",
        "def notify_mr_wayne(state: EmailState):\n",
        "    email = state[\"email\"]\n",
        "\n",
        "    print(\"\\n\" + \"=\"*50)\n",
        "    print(f\"Sir, you've received an email from {email['sender']}.\")\n",
        "    print(f\"Subject: {email['subject']}\")\n",
        "    print(\"\\nI've prepared a draft response for your review:\")\n",
        "    print(\"-\"*50)\n",
        "    print(state[\"draft_response\"])\n",
        "    print(\"=\"*50 + \"\\n\")\n",
        "\n",
        "    return {}\n",
        "\n",
        "\n",
        "# define the routing log\n",
        "def route_email(state: EmailState):\n",
        "    if state[\"is_spam\"]:\n",
        "        return \"spam\"\n",
        "    else:\n",
        "        return \"legitimate\"\n",
        "\n",
        "\n",
        "# Create the graph\n",
        "email_graph = StateGraph(EmailState)\n",
        "\n",
        "# Add nodes\n",
        "email_graph.add_node(\"read_email\", read_email) # the read_email node executes the read_mail function\n",
        "email_graph.add_node(\"classify_email\", classify_email) # the classify_email node will execute the classify_email function\n",
        "email_graph.add_node(\"handle_spam\", handle_spam) #same logic\n",
        "email_graph.add_node(\"drafting_response\", drafting_response) #same logic\n",
        "email_graph.add_node(\"notify_mr_wayne\", notify_mr_wayne) # same logic\n"
      ],
      "metadata": {
        "id": "pl2YPqGWAu9J"
      },
      "execution_count": null,
      "outputs": []
    }
  ]
}