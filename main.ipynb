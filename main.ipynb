{
  "nbformat": 4,
  "nbformat_minor": 0,
  "metadata": {
    "colab": {
      "provenance": [],
      "authorship_tag": "ABX9TyNg6UrNpMpeDLFdXPM1D22+",
      "include_colab_link": true
    },
    "kernelspec": {
      "name": "python3",
      "display_name": "Python 3"
    },
    "language_info": {
      "name": "python"
    }
  },
  "cells": [
    {
      "cell_type": "markdown",
      "metadata": {
        "id": "view-in-github",
        "colab_type": "text"
      },
      "source": [
        "<a href=\"https://colab.research.google.com/github/yuwang1028/AI-Powered-Email-Agent-using-LangGraph/blob/main/main.ipynb\" target=\"_parent\"><img src=\"https://colab.research.google.com/assets/colab-badge.svg\" alt=\"Open In Colab\"/></a>"
      ]
    },
    {
      "cell_type": "code",
      "execution_count": 1,
      "metadata": {
        "colab": {
          "base_uri": "https://localhost:8080/"
        },
        "id": "YL33-G303IOv",
        "outputId": "02d27d17-12e9-497c-d2ea-273ee18f61dc"
      },
      "outputs": [
        {
          "output_type": "stream",
          "name": "stdout",
          "text": [
            "\u001b[?25l   \u001b[90m━━━━━━━━━━━━━━━━━━━━━━━━━━━━━━━━━━━━━━━━\u001b[0m \u001b[32m0.0/136.5 kB\u001b[0m \u001b[31m?\u001b[0m eta \u001b[36m-:--:--\u001b[0m\r\u001b[2K   \u001b[90m━━━━━━━━━━━━━━━━━━━━━━━━━━━━━━━━━━━━━━━━\u001b[0m \u001b[32m136.5/136.5 kB\u001b[0m \u001b[31m3.9 MB/s\u001b[0m eta \u001b[36m0:00:00\u001b[0m\n",
            "\u001b[?25h\u001b[?25l   \u001b[90m━━━━━━━━━━━━━━━━━━━━━━━━━━━━━━━━━━━━━━━━\u001b[0m \u001b[32m0.0/60.9 kB\u001b[0m \u001b[31m?\u001b[0m eta \u001b[36m-:--:--\u001b[0m\r\u001b[2K   \u001b[90m━━━━━━━━━━━━━━━━━━━━━━━━━━━━━━━━━━━━━━━━\u001b[0m \u001b[32m60.9/60.9 kB\u001b[0m \u001b[31m3.7 MB/s\u001b[0m eta \u001b[36m0:00:00\u001b[0m\n",
            "\u001b[?25h\u001b[?25l   \u001b[90m━━━━━━━━━━━━━━━━━━━━━━━━━━━━━━━━━━━━━━━━\u001b[0m \u001b[32m0.0/41.2 kB\u001b[0m \u001b[31m?\u001b[0m eta \u001b[36m-:--:--\u001b[0m\r\u001b[2K   \u001b[90m━━━━━━━━━━━━━━━━━━━━━━━━━━━━━━━━━━━━━━━━\u001b[0m \u001b[32m41.2/41.2 kB\u001b[0m \u001b[31m2.4 MB/s\u001b[0m eta \u001b[36m0:00:00\u001b[0m\n",
            "\u001b[2K   \u001b[90m━━━━━━━━━━━━━━━━━━━━━━━━━━━━━━━━━━━━━━━━\u001b[0m \u001b[32m46.5/46.5 kB\u001b[0m \u001b[31m2.8 MB/s\u001b[0m eta \u001b[36m0:00:00\u001b[0m\n",
            "\u001b[2K   \u001b[90m━━━━━━━━━━━━━━━━━━━━━━━━━━━━━━━━━━━━━━━━\u001b[0m \u001b[32m1.2/1.2 MB\u001b[0m \u001b[31m21.3 MB/s\u001b[0m eta \u001b[36m0:00:00\u001b[0m\n",
            "\u001b[2K   \u001b[90m━━━━━━━━━━━━━━━━━━━━━━━━━━━━━━━━━━━━━━━━\u001b[0m \u001b[32m363.4/363.4 MB\u001b[0m \u001b[31m4.0 MB/s\u001b[0m eta \u001b[36m0:00:00\u001b[0m\n",
            "\u001b[2K   \u001b[90m━━━━━━━━━━━━━━━━━━━━━━━━━━━━━━━━━━━━━━━━\u001b[0m \u001b[32m13.8/13.8 MB\u001b[0m \u001b[31m89.4 MB/s\u001b[0m eta \u001b[36m0:00:00\u001b[0m\n",
            "\u001b[2K   \u001b[90m━━━━━━━━━━━━━━━━━━━━━━━━━━━━━━━━━━━━━━━━\u001b[0m \u001b[32m24.6/24.6 MB\u001b[0m \u001b[31m71.2 MB/s\u001b[0m eta \u001b[36m0:00:00\u001b[0m\n",
            "\u001b[2K   \u001b[90m━━━━━━━━━━━━━━━━━━━━━━━━━━━━━━━━━━━━━━━━\u001b[0m \u001b[32m883.7/883.7 kB\u001b[0m \u001b[31m39.1 MB/s\u001b[0m eta \u001b[36m0:00:00\u001b[0m\n",
            "\u001b[2K   \u001b[90m━━━━━━━━━━━━━━━━━━━━━━━━━━━━━━━━━━━━━━━━\u001b[0m \u001b[32m664.8/664.8 MB\u001b[0m \u001b[31m1.4 MB/s\u001b[0m eta \u001b[36m0:00:00\u001b[0m\n",
            "\u001b[2K   \u001b[90m━━━━━━━━━━━━━━━━━━━━━━━━━━━━━━━━━━━━━━━━\u001b[0m \u001b[32m211.5/211.5 MB\u001b[0m \u001b[31m6.4 MB/s\u001b[0m eta \u001b[36m0:00:00\u001b[0m\n",
            "\u001b[2K   \u001b[90m━━━━━━━━━━━━━━━━━━━━━━━━━━━━━━━━━━━━━━━━\u001b[0m \u001b[32m56.3/56.3 MB\u001b[0m \u001b[31m13.4 MB/s\u001b[0m eta \u001b[36m0:00:00\u001b[0m\n",
            "\u001b[2K   \u001b[90m━━━━━━━━━━━━━━━━━━━━━━━━━━━━━━━━━━━━━━━━\u001b[0m \u001b[32m127.9/127.9 MB\u001b[0m \u001b[31m6.7 MB/s\u001b[0m eta \u001b[36m0:00:00\u001b[0m\n",
            "\u001b[2K   \u001b[90m━━━━━━━━━━━━━━━━━━━━━━━━━━━━━━━━━━━━━━━━\u001b[0m \u001b[32m207.5/207.5 MB\u001b[0m \u001b[31m2.1 MB/s\u001b[0m eta \u001b[36m0:00:00\u001b[0m\n",
            "\u001b[2K   \u001b[90m━━━━━━━━━━━━━━━━━━━━━━━━━━━━━━━━━━━━━━━━\u001b[0m \u001b[32m21.1/21.1 MB\u001b[0m \u001b[31m79.8 MB/s\u001b[0m eta \u001b[36m0:00:00\u001b[0m\n",
            "\u001b[?25h"
          ]
        }
      ],
      "source": [
        "%pip install -q langgraph langchain_openai langchain_huggingface"
      ]
    },
    {
      "cell_type": "code",
      "source": [
        "import os\n",
        "from typing import TypedDict, List, Dict, Any, Optional\n",
        "from langgraph.graph import StateGraph, END\n",
        "from langchain_openai import ChatOpenAI\n",
        "from langchain_core.messages import HumanMessage, AIMessage\n",
        "\n",
        "# Set your OpenAI API key here\n",
        "os.environ[\"OPENAI_API_KEY\"] = \"YOUR_OPENAI_API_KEY\"  # Replace with your actual API key\n",
        "\n",
        "# Initialize our LLM\n",
        "model = ChatOpenAI(model=\"gpt-4o\", temperature=0)"
      ],
      "metadata": {
        "id": "Gj2GsCrC3X1f"
      },
      "execution_count": 15,
      "outputs": []
    },
    {
      "cell_type": "code",
      "source": [
        "# define the state\n",
        "class EmailState(TypedDict):\n",
        "    email: Dict[str, Any]\n",
        "    is_spam: Optional[bool]\n",
        "    spam_reason: Optional[str]\n",
        "    email_category: Optional[str]\n",
        "    draft_response: Optional[str]\n",
        "    messages: List[Dict[str, Any]]"
      ],
      "metadata": {
        "id": "LN31PRrV3fPX"
      },
      "execution_count": 3,
      "outputs": []
    },
    {
      "cell_type": "code",
      "source": [
        "import os\n",
        "from typing import TypedDict, List, Dict, Any, Optional\n",
        "from langgraph.graph import StateGraph, START, END\n",
        "from langchain_openai import ChatOpenAI\n",
        "from langchain_core.messages import HumanMessage, AIMessage\n",
        "from langchain_huggingface import ChatHuggingFace, HuggingFaceEndpoint\n",
        "\n",
        "\n",
        "\n",
        "# Initialize LLM\n",
        "model = ChatOpenAI( model=\"gpt-4o\",temperature=0)\n",
        "\n",
        "class EmailState(TypedDict):\n",
        "    email: Dict[str, Any]\n",
        "    is_spam: Optional[bool]\n",
        "    draft_response: Optional[str]\n",
        "    messages: List[Dict[str, Any]]\n",
        "\n",
        "# Define nodes\n",
        "def read_email(state: EmailState):\n",
        "    email = state[\"email\"]\n",
        "    print(f\"Alfred is processing an email from {email['sender']} with subject: {email['subject']}\")\n",
        "    return {}\n",
        "\n",
        "def classify_email(state: EmailState):\n",
        "    email = state[\"email\"]\n",
        "\n",
        "    prompt = f\"\"\"\n",
        "As Alfred the butler of Mr wayne and it's SECRET identity Batman, analyze this email and determine if it is spam or legitimate and should be brought to Mr wayne's attention.\n",
        "\n",
        "Email:\n",
        "From: {email['sender']}\n",
        "Subject: {email['subject']}\n",
        "Body: {email['body']}\n",
        "\n",
        "First, determine if this email is spam.\n",
        "answer with SPAM or HAM if it's legitimate. Only reurn the answer\n",
        "Answer :\n",
        "    \"\"\"\n",
        "    messages = [HumanMessage(content=prompt)]\n",
        "    response = model.invoke(messages)\n",
        "    response_text = response.content.lower()\n",
        "    print(response_text)\n",
        "    is_spam = \"spam\" in response_text and \"ham\" not in response_text\n",
        "\n",
        "    if not is_spam:\n",
        "        new_messages = state.get(\"messages\", []) + [\n",
        "            {\"role\": \"user\", \"content\": prompt},\n",
        "            {\"role\": \"assistant\", \"content\": response.content}\n",
        "        ]\n",
        "    else :\n",
        "        new_messages = state.get(\"messages\", [])\n",
        "\n",
        "    return {\n",
        "        \"is_spam\": is_spam,\n",
        "        \"messages\": new_messages\n",
        "    }\n",
        "\n",
        "def handle_spam(state: EmailState):\n",
        "    print(f\"Alfred has marked the email as spam.\")\n",
        "    print(\"The email has been moved to the spam folder.\")\n",
        "    return {}\n",
        "\n",
        "def drafting_response(state: EmailState):\n",
        "    email = state[\"email\"]\n",
        "\n",
        "    prompt = f\"\"\"\n",
        "As Alfred the butler, draft a polite preliminary response to this email.\n",
        "\n",
        "Email:\n",
        "From: {email['sender']}\n",
        "Subject: {email['subject']}\n",
        "Body: {email['body']}\n",
        "\n",
        "Draft a brief, professional response that Mr. Wayne can review and personalize before sending.\n",
        "    \"\"\"\n",
        "\n",
        "    messages = [HumanMessage(content=prompt)]\n",
        "    response = model.invoke(messages)\n",
        "\n",
        "    new_messages = state.get(\"messages\", []) + [\n",
        "        {\"role\": \"user\", \"content\": prompt},\n",
        "        {\"role\": \"assistant\", \"content\": response.content}\n",
        "    ]\n",
        "\n",
        "    return {\n",
        "        \"draft_response\": response.content,\n",
        "        \"messages\": new_messages\n",
        "    }\n",
        "\n",
        "def notify_mr_wayne(state: EmailState):\n",
        "    email = state[\"email\"]\n",
        "\n",
        "    print(\"\\n\" + \"=\"*50)\n",
        "    print(f\"Sir, you've received an email from {email['sender']}.\")\n",
        "    print(f\"Subject: {email['subject']}\")\n",
        "    print(\"\\nI've prepared a draft response for your review:\")\n",
        "    print(\"-\"*50)\n",
        "    print(state[\"draft_response\"])\n",
        "    print(\"=\"*50 + \"\\n\")\n",
        "\n",
        "    return {}\n",
        "\n",
        "# Define routing logic\n",
        "def route_email(state: EmailState) -> str:\n",
        "    if state[\"is_spam\"]:\n",
        "        return \"spam\"\n",
        "    else:\n",
        "        return \"legitimate\"\n",
        "\n",
        "# Create the graph\n",
        "email_graph = StateGraph(EmailState)\n",
        "\n",
        "# Add nodes\n",
        "email_graph.add_node(\"read_email\", read_email) # the read_email node executes the read_mail function\n",
        "email_graph.add_node(\"classify_email\", classify_email) # the classify_email node will execute the classify_email function\n",
        "email_graph.add_node(\"handle_spam\", handle_spam) #same logic\n",
        "email_graph.add_node(\"drafting_response\", drafting_response) #same logic\n",
        "email_graph.add_node(\"notify_mr_wayne\", notify_mr_wayne) # same logic\n"
      ],
      "metadata": {
        "colab": {
          "base_uri": "https://localhost:8080/"
        },
        "id": "pl2YPqGWAu9J",
        "outputId": "6f4c1c57-42f6-461a-8c28-25333063254d"
      },
      "execution_count": 10,
      "outputs": [
        {
          "output_type": "execute_result",
          "data": {
            "text/plain": [
              "<langgraph.graph.state.StateGraph at 0x7d3fc7e3abd0>"
            ]
          },
          "metadata": {},
          "execution_count": 10
        }
      ]
    },
    {
      "cell_type": "code",
      "source": [
        "## Step 3: Define Our Routing Logic\n",
        "# Add edges\n",
        "\n",
        "email_graph.add_edge(START, \"read_email\") # After starting we go to the \"read_email\" node\n",
        "email_graph.add_edge(\"read_email\", \"classify_email\") # After reading the email we classify it\n",
        "# add conditional edges\n",
        "email_graph.add_conditional_edges(\n",
        "    \"classify_email\",\n",
        "    route_email,\n",
        "    {\n",
        "        \"spam\": \"handle_spam\",\n",
        "        \"legitimate\": \"drafting_response\"\n",
        "    }\n",
        ")\n",
        "\n",
        "# add final edges\n",
        "email_graph.add_edge(\"handle_spam\", END)\n",
        "email_graph.add_edge(\"drafting_response\", \"notify_mr_wayne\")\n",
        "email_graph.add_edge(\"notify_mr_wayne\", END)"
      ],
      "metadata": {
        "colab": {
          "base_uri": "https://localhost:8080/"
        },
        "id": "7q5z_wEJlyy2",
        "outputId": "f1114b11-674e-46cc-ada1-c77e7a266454"
      },
      "execution_count": 11,
      "outputs": [
        {
          "output_type": "execute_result",
          "data": {
            "text/plain": [
              "<langgraph.graph.state.StateGraph at 0x7d3fc7e3abd0>"
            ]
          },
          "metadata": {},
          "execution_count": 11
        }
      ]
    },
    {
      "cell_type": "markdown",
      "source": [
        "## Step 4: Create the StateGraph and Define Edges"
      ],
      "metadata": {
        "id": "RI5HUFZ6xxI_"
      }
    },
    {
      "cell_type": "code",
      "source": [
        "# Compile the graph\n",
        "compiled_graph = email_graph.compile()\n",
        "\n"
      ],
      "metadata": {
        "id": "yNoYXMQcxuN7"
      },
      "execution_count": 12,
      "outputs": []
    },
    {
      "cell_type": "code",
      "source": [
        "from IPython.display import Image, display\n",
        "\n",
        "display(Image(compiled_graph.get_graph().draw_mermaid_png()))"
      ],
      "metadata": {
        "colab": {
          "base_uri": "https://localhost:8080/",
          "height": 572
        },
        "id": "u8lxknRm1rjb",
        "outputId": "de38feef-b555-44bd-c969-4cd0ecb47fb9"
      },
      "execution_count": 13,
      "outputs": [
        {
          "output_type": "display_data",
          "data": {
            "image/png": "[encoded data removed]",
            "text/plain": [
              "<IPython.core.display.Image object>"
            ]
          },
          "metadata": {}
        }
      ]
    },
    {
      "cell_type": "code",
      "source": [
        " # Example emails for testing\n",
        "legitimate_email = {\n",
        "    \"sender\": \"Joker\",\n",
        "    \"subject\": \"Found you Batman ! \",\n",
        "    \"body\": \"Mr. Wayne,I found your secret identity ! I know you're batman ! Ther's no denying it, I have proof of that and I'm coming to find you soon. I'll get my revenge. JOKER\"\n",
        "}\n",
        "\n",
        "spam_email = {\n",
        "    \"sender\": \"Crypto bro\",\n",
        "    \"subject\": \"The best investment of 2025\",\n",
        "    \"body\": \"Mr Wayne, I just launched an ALT coin and want you to buy some !\"\n",
        "}\n",
        "# Process legitimate email\n",
        "print(\"\\nProcessing legitimate email...\")\n",
        "legitimate_result = compiled_graph.invoke({\n",
        "    \"email\": legitimate_email,\n",
        "    \"is_spam\": None,\n",
        "    \"draft_response\": None,\n",
        "    \"messages\": []\n",
        "})\n",
        "\n",
        "# Process spam email\n",
        "print(\"\\nProcessing spam email...\")\n",
        "spam_result = compiled_graph.invoke({\n",
        "    \"email\": spam_email,\n",
        "    \"is_spam\": None,\n",
        "    \"draft_response\": None,\n",
        "    \"messages\": []\n",
        "})"
      ],
      "metadata": {
        "colab": {
          "base_uri": "https://localhost:8080/"
        },
        "id": "U5aYdzbHBwni",
        "outputId": "f864dca6-7ff4-4821-b9ab-1b1d43b3d79e"
      },
      "execution_count": 16,
      "outputs": [
        {
          "output_type": "stream",
          "name": "stdout",
          "text": [
            "\n",
            "Processing legitimate email...\n",
            "Alfred is processing an email from Joker with subject: Found you Batman ! \n",
            "ham\n",
            "\n",
            "==================================================\n",
            "Sir, you've received an email from Joker.\n",
            "Subject: Found you Batman ! \n",
            "\n",
            "I've prepared a draft response for your review:\n",
            "--------------------------------------------------\n",
            "Subject: Re: Found you Batman!\n",
            "\n",
            "Dear Mr. Joker,\n",
            "\n",
            "Thank you for reaching out with your concerns. Mr. Wayne appreciates your interest and would like to assure you that any misunderstandings can be addressed in a calm and rational manner. We encourage open dialogue and are confident that any issues can be resolved amicably.\n",
            "\n",
            "Please feel free to share any further details you might have, and we will do our best to address them promptly.\n",
            "\n",
            "Kind regards,\n",
            "\n",
            "Alfred Pennyworth  \n",
            "On behalf of Bruce Wayne\n",
            "==================================================\n",
            "\n",
            "\n",
            "Processing spam email...\n",
            "Alfred is processing an email from Crypto bro with subject: The best investment of 2025\n",
            "spam\n",
            "Alfred has marked the email as spam.\n",
            "The email has been moved to the spam folder.\n"
          ]
        }
      ]
    }
  ]
}